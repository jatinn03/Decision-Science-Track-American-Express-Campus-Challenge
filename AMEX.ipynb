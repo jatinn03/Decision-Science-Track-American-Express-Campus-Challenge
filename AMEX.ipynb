{
 "cells": [
  {
   "cell_type": "code",
   "execution_count": 1,
   "id": "a53e4031-d8d4-4a6f-ac3b-6547b2226bc5",
   "metadata": {},
   "outputs": [],
   "source": [
    "import os"
   ]
  },
  {
   "cell_type": "code",
   "execution_count": 2,
   "id": "88c61c21-0508-4b6b-aace-630ecc055fc8",
   "metadata": {},
   "outputs": [],
   "source": [
    "   new_directory = \"/Users/jatin/downloads\"  # Replace with your actual path\n",
    "   os.chdir(new_directory)\n"
   ]
  },
  {
   "cell_type": "code",
   "execution_count": 3,
   "id": "470bdfbd-6f33-477b-a92b-7d37ab15151d",
   "metadata": {},
   "outputs": [
    {
     "name": "stdout",
     "output_type": "stream",
     "text": [
      "Current directory: /Users/jatin/Downloads\n"
     ]
    }
   ],
   "source": [
    "   current_directory = os.getcwd()\n",
    "   print(f\"Current directory: {current_directory}\")\n"
   ]
  },
  {
   "cell_type": "code",
   "execution_count": 5,
   "id": "e4df0b0b-3f1a-493d-9261-ac1c8b36ae50",
   "metadata": {},
   "outputs": [
    {
     "name": "stdout",
     "output_type": "stream",
     "text": [
      "Number of rows: 770164\n"
     ]
    }
   ],
   "source": [
    "import pandas as pd\n",
    "\n",
    "# Replace with your Parquet file path\n",
    "file_path = 'train_data.parquet'\n",
    "\n",
    "# Read the Parquet file\n",
    "df = pd.read_parquet(file_path)\n",
    "\n",
    "# Get the number of rows\n",
    "num_rows = len(df)\n",
    "\n",
    "print(f\"Number of rows: {num_rows}\")\n"
   ]
  },
  {
   "cell_type": "code",
   "execution_count": 6,
   "id": "9fe59242-f6f4-4947-a83e-ab45ff197bdf",
   "metadata": {},
   "outputs": [
    {
     "name": "stdout",
     "output_type": "stream",
     "text": [
      "Number of rows: 369301\n"
     ]
    }
   ],
   "source": [
    "import pandas as pd\n",
    "\n",
    "# Replace with your Parquet file path\n",
    "file_path = 'test_data.parquet'\n",
    "\n",
    "# Read the Parquet file\n",
    "df = pd.read_parquet(file_path)\n",
    "\n",
    "# Get the number of rows\n",
    "num_rows = len(df)\n",
    "\n",
    "print(f\"Number of rows: {num_rows}\")\n"
   ]
  },
  {
   "cell_type": "code",
   "execution_count": 7,
   "id": "a5e5667e-dda2-47a9-a487-a7e03b952197",
   "metadata": {},
   "outputs": [
    {
     "name": "stdout",
     "output_type": "stream",
     "text": [
      "Number of rows: 21457473\n"
     ]
    }
   ],
   "source": [
    "import pandas as pd\n",
    "\n",
    "# Replace with your Parquet file path\n",
    "file_path = 'add_event.parquet'\n",
    "\n",
    "# Read the Parquet file\n",
    "df = pd.read_parquet(file_path)\n",
    "\n",
    "# Get the number of rows\n",
    "num_rows = len(df)\n",
    "\n",
    "print(f\"Number of rows: {num_rows}\")\n"
   ]
  },
  {
   "cell_type": "code",
   "execution_count": 8,
   "id": "e1c952f8-2f80-4fc3-9836-f44d4e8557df",
   "metadata": {},
   "outputs": [
    {
     "name": "stdout",
     "output_type": "stream",
     "text": [
      "Number of rows: 4164\n"
     ]
    }
   ],
   "source": [
    "import pandas as pd\n",
    "\n",
    "# Replace with your Parquet file path\n",
    "file_path = 'offer_metadata.parquet'\n",
    "\n",
    "# Read the Parquet file\n",
    "df = pd.read_parquet(file_path)\n",
    "\n",
    "# Get the number of rows\n",
    "num_rows = len(df)\n",
    "\n",
    "print(f\"Number of rows: {num_rows}\")\n"
   ]
  },
  {
   "cell_type": "code",
   "execution_count": 9,
   "id": "af544a70-a899-4527-b721-f300c7134f7b",
   "metadata": {},
   "outputs": [
    {
     "name": "stdout",
     "output_type": "stream",
     "text": [
      "Number of rows: 6339465\n"
     ]
    }
   ],
   "source": [
    "import pandas as pd\n",
    "\n",
    "# Replace with your Parquet file path\n",
    "file_path = 'add_trans.parquet'\n",
    "\n",
    "# Read the Parquet file\n",
    "df = pd.read_parquet(file_path)\n",
    "\n",
    "# Get the number of rows\n",
    "num_rows = len(df)\n",
    "\n",
    "print(f\"Number of rows: {num_rows}\")\n"
   ]
  },
  {
   "cell_type": "code",
   "execution_count": null,
   "id": "5d20f982-19f2-4293-8419-5f10b4e88740",
   "metadata": {},
   "outputs": [],
   "source": []
  }
 ],
 "metadata": {
  "kernelspec": {
   "display_name": "Python 3 (ipykernel)",
   "language": "python",
   "name": "python3"
  },
  "language_info": {
   "codemirror_mode": {
    "name": "ipython",
    "version": 3
   },
   "file_extension": ".py",
   "mimetype": "text/x-python",
   "name": "python",
   "nbconvert_exporter": "python",
   "pygments_lexer": "ipython3",
   "version": "3.12.5"
  }
 },
 "nbformat": 4,
 "nbformat_minor": 5
}
